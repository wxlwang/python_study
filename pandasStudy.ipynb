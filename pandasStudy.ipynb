{
 "cells": [
  {
   "cell_type": "markdown",
   "metadata": {
    "collapsed": false
   },
   "source": [
    "# df.shift(n)"
   ]
  },
  {
   "cell_type": "code",
   "execution_count": 62,
   "metadata": {
    "collapsed": false
   },
   "outputs": [
    {
     "name": "stdout",
     "output_type": "stream",
     "text": [
      "0    1.0\n",
      "1    3.0\n",
      "2    5.0\n",
      "3    NaN\n",
      "4    6.0\n",
      "5    8.0\n",
      "dtype: float64\n",
      "0    NaN\n",
      "1    NaN\n",
      "2    1.0\n",
      "3    3.0\n",
      "4    5.0\n",
      "5    NaN\n",
      "dtype: float64\n"
     ]
    }
   ],
   "source": [
    "import pandas as pd\n",
    "import numpy as np\n",
    "\n",
    "s = pd.Series([1,3,5,np.nan,6,8])\n",
    "\n",
    "print(s)\n",
    "print(s.shift(2))"
   ]
  },
  {
   "cell_type": "code",
   "execution_count": 71,
   "metadata": {
    "collapsed": false
   },
   "outputs": [
    {
     "name": "stdout",
     "output_type": "stream",
     "text": [
      "5.0\n",
      "0    NaN\n",
      "1    1.0\n",
      "2    2.0\n",
      "3    3.0\n",
      "4    4.0\n",
      "5    5.0\n",
      "dtype: float64\n"
     ]
    }
   ],
   "source": [
    "import pandas as pd\n",
    "\n",
    "a = pd.Series([1,2,4,7,11,16])\n",
    "b = a - a.shift(1)\n",
    "\n",
    "print(b.values[-1]*1.0)\n",
    "print(b*1)"
   ]
  },
  {
   "cell_type": "markdown",
   "metadata": {},
   "source": [
    "# Delete a column or row"
   ]
  },
  {
   "cell_type": "code",
   "execution_count": 37,
   "metadata": {
    "collapsed": false
   },
   "outputs": [
    {
     "name": "stdout",
     "output_type": "stream",
     "text": [
      "   A  B  C\n",
      "0  1  3  5\n",
      "1  2  4  6\n",
      "\n",
      " drop a column\n",
      "   B  C\n",
      "0  3  5\n",
      "1  4  6\n",
      "\n",
      " drop a row\n",
      "   A  B  C\n",
      "1  2  4  6\n"
     ]
    }
   ],
   "source": [
    "import pandas as pd\n",
    "import numpy as np\n",
    "\n",
    "df = pd.DataFrame({\"A\":[1,2], \"B\":[3,4], \"C\":[5,6]})\n",
    "print (df)\n",
    "\n",
    "print('\\n drop a column')\n",
    "print(df.drop(\"A\", axis=1))\n",
    "\n",
    "\n",
    "print('\\n drop a row')\n",
    "print(df.drop(0))\n"
   ]
  },
  {
   "cell_type": "markdown",
   "metadata": {},
   "source": [
    "# dimension of a dataframe\n",
    "* size\n",
    "\n",
    "* count()\n",
    "\n",
    "* shape"
   ]
  },
  {
   "cell_type": "code",
   "execution_count": 31,
   "metadata": {
    "collapsed": false
   },
   "outputs": [
    {
     "name": "stdout",
     "output_type": "stream",
     "text": [
      "df:\n",
      "           0         1         2\n",
      "0 -1.421417 -0.134520 -0.200315\n",
      "1  0.093646 -0.284435 -0.933443\n",
      "size:\n",
      " 6\n",
      "count:\n",
      " 0    2\n",
      "1    2\n",
      "2    2\n",
      "dtype: int64\n",
      "count:\n",
      " <bound method DataFrame.count of           0         1         2\n",
      "0 -1.421417 -0.134520 -0.200315\n",
      "1  0.093646 -0.284435 -0.933443>\n",
      "shape:\n",
      " (2, 3)\n"
     ]
    }
   ],
   "source": [
    "import pandas as pd\n",
    "import numpy as np\n",
    "\n",
    "df = pd.DataFrame(np.array(np.random.randn(2,3)))\n",
    "print('df:\\n',df)\n",
    "print('size:\\n',df.size)\n",
    "print('count:\\n',df.count())\n",
    "print('count:\\n',df.count)\n",
    "print('shape:\\n',df.shape)"
   ]
  },
  {
   "cell_type": "markdown",
   "metadata": {},
   "source": [
    "# ix\n",
    "\n",
    "DataFrame.ix\n",
    "A primarily label-location based indexer, with integer position fallback.\n",
    "\n",
    ".ix[] supports mixed integer and label based access. It is primarily label based, but will fall back to integer positional access unless the corresponding axis is of integer type.\n",
    "\n",
    ".ix is the most general indexer and will support any of the inputs in .loc and .iloc. .ix also supports floating point label schemes. .ix is exceptionally useful when dealing with mixed positional and label based hierachical indexes.\n",
    "\n",
    "However, when an axis is integer based, ONLY label based access and not positional access is supported. Thus, in such cases, it’s usually better to be explicit and use .iloc or .loc.\n"
   ]
  },
  {
   "cell_type": "code",
   "execution_count": 73,
   "metadata": {
    "collapsed": false
   },
   "outputs": [
    {
     "name": "stdout",
     "output_type": "stream",
     "text": [
      "{'key': ['B', 'D', 'C', 'A'], 'value': [1, 2, 3, 4]}\n",
      "  key  value\n",
      "3   A      4\n",
      "0   B      1\n",
      "2   C      3\n",
      "1   D      2\n",
      "  key  value\n",
      "0   B      1\n",
      "2   C      3\n",
      "1   D      2\n",
      "2.0\n",
      "  key  value\n",
      "a   A      4\n",
      "4.0\n"
     ]
    },
    {
     "name": "stderr",
     "output_type": "stream",
     "text": [
      "C:\\Anaconda3\\lib\\site-packages\\ipykernel\\__main__.py:6: FutureWarning: sort(columns=....) is deprecated, use sort_values(by=.....)\n"
     ]
    },
    {
     "ename": "TypeError",
     "evalue": "unhashable type: 'slice'",
     "output_type": "error",
     "traceback": [
      "\u001b[1;31m---------------------------------------------------------------------------\u001b[0m",
      "\u001b[1;31mTypeError\u001b[0m                                 Traceback (most recent call last)",
      "\u001b[1;32m<ipython-input-73-c74b5ad8408b>\u001b[0m in \u001b[0;36m<module>\u001b[1;34m()\u001b[0m\n\u001b[0;32m     17\u001b[0m \u001b[1;33m\u001b[0m\u001b[0m\n\u001b[0;32m     18\u001b[0m \u001b[0mx\u001b[0m\u001b[1;33m=\u001b[0m \u001b[0mpd\u001b[0m\u001b[1;33m.\u001b[0m\u001b[0mDataFrame\u001b[0m\u001b[1;33m.\u001b[0m\u001b[0mfrom_dict\u001b[0m\u001b[1;33m(\u001b[0m\u001b[0mdata\u001b[0m\u001b[1;33m)\u001b[0m\u001b[1;33m\u001b[0m\u001b[0m\n\u001b[1;32m---> 19\u001b[1;33m \u001b[0mx\u001b[0m\u001b[1;33m[\u001b[0m\u001b[1;36m0\u001b[0m\u001b[1;33m,\u001b[0m\u001b[1;33m:\u001b[0m\u001b[1;33m]\u001b[0m\u001b[1;33m\u001b[0m\u001b[0m\n\u001b[0m",
      "\u001b[1;32mC:\\Anaconda3\\lib\\site-packages\\pandas\\core\\frame.py\u001b[0m in \u001b[0;36m__getitem__\u001b[1;34m(self, key)\u001b[0m\n\u001b[0;32m   1990\u001b[0m             \u001b[1;32mreturn\u001b[0m \u001b[0mself\u001b[0m\u001b[1;33m.\u001b[0m\u001b[0m_getitem_multilevel\u001b[0m\u001b[1;33m(\u001b[0m\u001b[0mkey\u001b[0m\u001b[1;33m)\u001b[0m\u001b[1;33m\u001b[0m\u001b[0m\n\u001b[0;32m   1991\u001b[0m         \u001b[1;32melse\u001b[0m\u001b[1;33m:\u001b[0m\u001b[1;33m\u001b[0m\u001b[0m\n\u001b[1;32m-> 1992\u001b[1;33m             \u001b[1;32mreturn\u001b[0m \u001b[0mself\u001b[0m\u001b[1;33m.\u001b[0m\u001b[0m_getitem_column\u001b[0m\u001b[1;33m(\u001b[0m\u001b[0mkey\u001b[0m\u001b[1;33m)\u001b[0m\u001b[1;33m\u001b[0m\u001b[0m\n\u001b[0m\u001b[0;32m   1993\u001b[0m \u001b[1;33m\u001b[0m\u001b[0m\n\u001b[0;32m   1994\u001b[0m     \u001b[1;32mdef\u001b[0m \u001b[0m_getitem_column\u001b[0m\u001b[1;33m(\u001b[0m\u001b[0mself\u001b[0m\u001b[1;33m,\u001b[0m \u001b[0mkey\u001b[0m\u001b[1;33m)\u001b[0m\u001b[1;33m:\u001b[0m\u001b[1;33m\u001b[0m\u001b[0m\n",
      "\u001b[1;32mC:\\Anaconda3\\lib\\site-packages\\pandas\\core\\frame.py\u001b[0m in \u001b[0;36m_getitem_column\u001b[1;34m(self, key)\u001b[0m\n\u001b[0;32m   1997\u001b[0m         \u001b[1;31m# get column\u001b[0m\u001b[1;33m\u001b[0m\u001b[1;33m\u001b[0m\u001b[0m\n\u001b[0;32m   1998\u001b[0m         \u001b[1;32mif\u001b[0m \u001b[0mself\u001b[0m\u001b[1;33m.\u001b[0m\u001b[0mcolumns\u001b[0m\u001b[1;33m.\u001b[0m\u001b[0mis_unique\u001b[0m\u001b[1;33m:\u001b[0m\u001b[1;33m\u001b[0m\u001b[0m\n\u001b[1;32m-> 1999\u001b[1;33m             \u001b[1;32mreturn\u001b[0m \u001b[0mself\u001b[0m\u001b[1;33m.\u001b[0m\u001b[0m_get_item_cache\u001b[0m\u001b[1;33m(\u001b[0m\u001b[0mkey\u001b[0m\u001b[1;33m)\u001b[0m\u001b[1;33m\u001b[0m\u001b[0m\n\u001b[0m\u001b[0;32m   2000\u001b[0m \u001b[1;33m\u001b[0m\u001b[0m\n\u001b[0;32m   2001\u001b[0m         \u001b[1;31m# duplicate columns & possible reduce dimensionality\u001b[0m\u001b[1;33m\u001b[0m\u001b[1;33m\u001b[0m\u001b[0m\n",
      "\u001b[1;32mC:\\Anaconda3\\lib\\site-packages\\pandas\\core\\generic.py\u001b[0m in \u001b[0;36m_get_item_cache\u001b[1;34m(self, item)\u001b[0m\n\u001b[0;32m   1341\u001b[0m         \u001b[1;34m\"\"\"Return the cached item, item represents a label indexer.\"\"\"\u001b[0m\u001b[1;33m\u001b[0m\u001b[0m\n\u001b[0;32m   1342\u001b[0m         \u001b[0mcache\u001b[0m \u001b[1;33m=\u001b[0m \u001b[0mself\u001b[0m\u001b[1;33m.\u001b[0m\u001b[0m_item_cache\u001b[0m\u001b[1;33m\u001b[0m\u001b[0m\n\u001b[1;32m-> 1343\u001b[1;33m         \u001b[0mres\u001b[0m \u001b[1;33m=\u001b[0m \u001b[0mcache\u001b[0m\u001b[1;33m.\u001b[0m\u001b[0mget\u001b[0m\u001b[1;33m(\u001b[0m\u001b[0mitem\u001b[0m\u001b[1;33m)\u001b[0m\u001b[1;33m\u001b[0m\u001b[0m\n\u001b[0m\u001b[0;32m   1344\u001b[0m         \u001b[1;32mif\u001b[0m \u001b[0mres\u001b[0m \u001b[1;32mis\u001b[0m \u001b[1;32mNone\u001b[0m\u001b[1;33m:\u001b[0m\u001b[1;33m\u001b[0m\u001b[0m\n\u001b[0;32m   1345\u001b[0m             \u001b[0mvalues\u001b[0m \u001b[1;33m=\u001b[0m \u001b[0mself\u001b[0m\u001b[1;33m.\u001b[0m\u001b[0m_data\u001b[0m\u001b[1;33m.\u001b[0m\u001b[0mget\u001b[0m\u001b[1;33m(\u001b[0m\u001b[0mitem\u001b[0m\u001b[1;33m)\u001b[0m\u001b[1;33m\u001b[0m\u001b[0m\n",
      "\u001b[1;31mTypeError\u001b[0m: unhashable type: 'slice'"
     ]
    }
   ],
   "source": [
    "import pandas as pd\n",
    "\n",
    "data = {'key': ['B','D','C','A'], 'value':[1,2,3,4]}\n",
    "print(data)\n",
    "\n",
    "sub_sort = pd.DataFrame.from_dict(data).sort(columns=['key'])\n",
    "print(sub_sort)\n",
    "\n",
    "sub_ix = sub_sort.ix[0:1] # ?? label based access\n",
    "print(sub_ix)\n",
    "print(sub_ix.value.mean()) #2.0\n",
    "\n",
    "\n",
    "sub_sort.index = ['a', 'b','c','d']\n",
    "print(sub_sort.ix[0:1])\n",
    "print(sub_sort.ix[0:1].value.mean())\n",
    "\n",
    "\n",
    "                                  "
   ]
  },
  {
   "cell_type": "markdown",
   "metadata": {},
   "source": [
    "# Indexing\n",
    "df[0,:]   #TypeError: unhashable type: 'slice'\n",
    "\n",
    "* iloc: by position, similar to array\n",
    "\n",
    "* loc: by label, end index is included\n",
    "\n",
    "* ix: by label-position, end index is included\n"
   ]
  },
  {
   "cell_type": "code",
   "execution_count": 79,
   "metadata": {
    "collapsed": false
   },
   "outputs": [
    {
     "name": "stdout",
     "output_type": "stream",
     "text": [
      "  key  value\n",
      "0   B      1\n",
      "1   D      2\n",
      "2   C      3\n",
      "3   A      4\n",
      "key      B\n",
      "value    1\n",
      "Name: 0, dtype: object\n",
      "key      B\n",
      "value    1\n",
      "Name: 0, dtype: object\n",
      "key      B\n",
      "value    1\n",
      "Name: 0, dtype: object\n",
      "  key  value\n",
      "1   D      2\n"
     ]
    }
   ],
   "source": [
    "import pandas as pd\n",
    "\n",
    "data = {'key': ['B','D','C','A'], 'value':[1,2,3,4]}\n",
    "\n",
    "df = pd.DataFrame(data)\n",
    "print(x)\n",
    "# df[0,:]   #TypeError: unhashable type: 'slice'\n",
    "\n",
    "print(x.ix[0,:])\n",
    "print(x.iloc[0,:])\n",
    "\n",
    "print(x.loc[0,:])\n",
    "\n",
    "print(x.loc[1:1, :])"
   ]
  },
  {
   "cell_type": "code",
   "execution_count": 82,
   "metadata": {
    "collapsed": false
   },
   "outputs": [
    {
     "name": "stdout",
     "output_type": "stream",
     "text": [
      "    3   4\n",
      "1   9  10\n",
      "2  14  15\n",
      "   3\n",
      "1  9\n",
      "    3   4\n",
      "1   9  10\n",
      "2  14  15\n"
     ]
    }
   ],
   "source": [
    "import pandas as pd\n",
    "df = pd.DataFrame([(1, 2, 3, 4, 5), (6, 7, 8, 9, 10), (11, 12, 13,\n",
    "14, 15)])\n",
    "\n",
    "# end position is included\n",
    "print (df.ix[1:2,3:4])\n",
    "print(df.loc[1:2,3:4])\n",
    "\n",
    "# end position is not included, like array slicing\n",
    "print(df.iloc[1:2,3:4])"
   ]
  },
  {
   "cell_type": "code",
   "execution_count": null,
   "metadata": {
    "collapsed": false
   },
   "outputs": [
    {
     "name": "stdout",
     "output_type": "stream",
     "text": [
      "[[ 0.30506413 -0.91616889 -1.58557942 -0.02254205]\n",
      " [-0.22024793 -3.34067457 -1.2141001  -1.32667958]\n",
      " [-0.94306054 -6.75318724 -1.25983958 -1.17323708]\n",
      " [-0.734237   -5.57552192 -1.05947204 -0.88455994]\n",
      " [-0.77374134 -5.62394325 -1.63524346 -0.92300051]\n",
      " [-1.47565807 -5.72891908 -1.30984616 -0.84120146]\n",
      " [-3.09128456 -6.37347504 -1.76035175 -0.60650765]\n",
      " [-3.62718458 -4.88899082 -1.33730567 -2.22652019]\n",
      " [-4.49152054 -5.35893587 -1.56173189 -0.95825018]\n",
      " [-5.83947162 -5.96606337 -1.77905718 -1.86472228]]\n"
     ]
    }
   ],
   "source": [
    "import matplotlib.pyplot as plt\n",
    "import numpy as np\n",
    "import pandas as pd\n",
    "\n",
    "print (np.random.randn(10, 4).cumsum(0))\n",
    "df = pd.DataFrame(np.random.randn(10, 4).cumsum(0), columns=['A',\n",
    "'B', 'C', 'D'], index=np.arange(0, 100, 10))\n",
    "df.plot()\n",
    "plt.show()"
   ]
  }
 ],
 "metadata": {
  "kernelspec": {
   "display_name": "Python 3",
   "language": "python",
   "name": "python3"
  },
  "language_info": {
   "codemirror_mode": {
    "name": "ipython",
    "version": 3
   },
   "file_extension": ".py",
   "mimetype": "text/x-python",
   "name": "python",
   "nbconvert_exporter": "python",
   "pygments_lexer": "ipython3",
   "version": "3.5.1"
  }
 },
 "nbformat": 4,
 "nbformat_minor": 0
}
