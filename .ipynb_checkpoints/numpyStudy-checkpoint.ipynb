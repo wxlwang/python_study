{
 "cells": [
  {
   "cell_type": "code",
   "execution_count": 4,
   "metadata": {
    "collapsed": false
   },
   "outputs": [
    {
     "name": "stdout",
     "output_type": "stream",
     "text": [
      "1.10.4\n"
     ]
    }
   ],
   "source": [
    "import numpy as np\n",
    "\n",
    "# show the numpy version and the configuration\n",
    "print(np.__version__)\n"
   ]
  },
  {
   "cell_type": "code",
   "execution_count": 14,
   "metadata": {
    "collapsed": false
   },
   "outputs": [
    {
     "name": "stdout",
     "output_type": "stream",
     "text": [
      "<class 'numpy.ndarray'> a= [ 0.  0.  0.  0.  0.]\n",
      "<class 'numpy.ndarray'> b= [[ 0.  0.  0.]\n",
      " [ 0.  0.  0.]]\n"
     ]
    }
   ],
   "source": [
    "# create a null vector\n",
    "a=np.zeros(5)\n",
    "print (type(a),'a=', a)\n",
    "\n",
    "b=np.zeros((2,3))\n",
    "print (type(b),'b=', b)"
   ]
  },
  {
   "cell_type": "code",
   "execution_count": 16,
   "metadata": {
    "collapsed": false
   },
   "outputs": [
    {
     "name": "stdout",
     "output_type": "stream",
     "text": [
      "c= [ 1.  1.  1.  1.  1.]\n",
      "d= [[ 1.  1.  1.]\n",
      " [ 1.  1.  1.]]\n"
     ]
    }
   ],
   "source": [
    "# Creat an array of all ones\n",
    "c = np.ones(5)\n",
    "print('c=',c)\n",
    "\n",
    "d = np.ones((2,3))\n",
    "print('d=',d)"
   ]
  }
 ],
 "metadata": {
  "kernelspec": {
   "display_name": "Python 3",
   "language": "python",
   "name": "python3"
  },
  "language_info": {
   "codemirror_mode": {
    "name": "ipython",
    "version": 3
   },
   "file_extension": ".py",
   "mimetype": "text/x-python",
   "name": "python",
   "nbconvert_exporter": "python",
   "pygments_lexer": "ipython3",
   "version": "3.5.1"
  }
 },
 "nbformat": 4,
 "nbformat_minor": 0
}
