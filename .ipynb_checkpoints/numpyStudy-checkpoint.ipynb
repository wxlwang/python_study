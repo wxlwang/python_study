{
 "cells": [
  {
   "cell_type": "code",
   "execution_count": 2,
   "metadata": {
    "collapsed": false
   },
   "outputs": [
    {
     "name": "stdout",
     "output_type": "stream",
     "text": [
      "1.10.4\n"
     ]
    }
   ],
   "source": [
    "import numpy as np\n",
    "\n",
    "# show the numpy version and the configuration\n",
    "print(np.__version__)\n"
   ]
  },
  {
   "cell_type": "markdown",
   "metadata": {},
   "source": [
    "# Array Creation\n",
    " http://docs.scipy.org/doc/numpy/user/basics.creation.html#arrays-creation"
   ]
  },
  {
   "cell_type": "markdown",
   "metadata": {},
   "source": [
    "* Create the following rank 2 array with shape (3, 4)"
   ]
  },
  {
   "cell_type": "code",
   "execution_count": 30,
   "metadata": {
    "collapsed": false
   },
   "outputs": [
    {
     "name": "stdout",
     "output_type": "stream",
     "text": [
      "[[ 1  2  3  4]\n",
      " [ 5  6  7  8]\n",
      " [ 9 10 11 12]]\n"
     ]
    }
   ],
   "source": [
    "x = np.array([[1,2,3,4], [5,6,7,8], [9,10,11,12]])\n",
    "print(x)"
   ]
  },
  {
   "cell_type": "code",
   "execution_count": 7,
   "metadata": {
    "collapsed": false
   },
   "outputs": [
    {
     "name": "stdout",
     "output_type": "stream",
     "text": [
      "a [[], [], [], []]\n",
      "\n",
      " a0 []\n",
      "\n",
      "  None\n"
     ]
    }
   ],
   "source": [
    "a=[[]]*4 # create a list\n",
    "\n",
    "# AttributeError: 'list' object has no attribute 'shape'\n",
    "# print (a.shape()) \n",
    "\n",
    "print ('a',a)\n",
    "print ('\\n a0',a[0])\n",
    "print('\\n ', a[0].append(15))"
   ]
  },
  {
   "cell_type": "code",
   "execution_count": 14,
   "metadata": {
    "collapsed": false
   },
   "outputs": [
    {
     "name": "stdout",
     "output_type": "stream",
     "text": [
      "[[1 2]\n",
      " [3 4]\n",
      " [5 6]]\n",
      "[[1 2]\n",
      " [3 4]\n",
      " [5 6]]\n"
     ]
    }
   ],
   "source": [
    "import numpy as np\n",
    "\n",
    "print (np.array([(1,2), (3,4), (5,6)]))\n",
    "\n",
    "print (np.array([[1,2], [3,4], [5,6]]))"
   ]
  },
  {
   "cell_type": "markdown",
   "metadata": {},
   "source": [
    "* The arange function is similar to the range function but returns an array:"
   ]
  },
  {
   "cell_type": "code",
   "execution_count": 21,
   "metadata": {
    "collapsed": false
   },
   "outputs": [
    {
     "data": {
      "text/plain": [
       "array([0, 1, 2, 3, 4])"
      ]
     },
     "execution_count": 21,
     "metadata": {},
     "output_type": "execute_result"
    }
   ],
   "source": [
    "np.arange(5)"
   ]
  },
  {
   "cell_type": "markdown",
   "metadata": {},
   "source": [
    "* create a null vector"
   ]
  },
  {
   "cell_type": "code",
   "execution_count": 14,
   "metadata": {
    "collapsed": false
   },
   "outputs": [
    {
     "name": "stdout",
     "output_type": "stream",
     "text": [
      "<class 'numpy.ndarray'> a= [ 0.  0.  0.  0.  0.]\n",
      "<class 'numpy.ndarray'> b= [[ 0.  0.  0.]\n",
      " [ 0.  0.  0.]]\n"
     ]
    }
   ],
   "source": [
    "a=np.zeros(5)\n",
    "print (type(a),'a=', a)\n",
    "\n",
    "b=np.zeros((2,3))\n",
    "print (type(b),'b=', b)"
   ]
  },
  {
   "cell_type": "code",
   "execution_count": 16,
   "metadata": {
    "collapsed": false
   },
   "outputs": [
    {
     "name": "stdout",
     "output_type": "stream",
     "text": [
      "c= [ 1.  1.  1.  1.  1.]\n",
      "d= [[ 1.  1.  1.]\n",
      " [ 1.  1.  1.]]\n"
     ]
    }
   ],
   "source": [
    "# Create an array of all ones\n",
    "c = np.ones(5)\n",
    "print('c=',c)\n",
    "\n",
    "d = np.ones((2,3))\n",
    "print('d=',d)"
   ]
  },
  {
   "cell_type": "code",
   "execution_count": 27,
   "metadata": {
    "collapsed": false
   },
   "outputs": [
    {
     "name": "stdout",
     "output_type": "stream",
     "text": [
      "I= [[1 0 0]\n",
      " [0 1 0]\n",
      " [0 0 1]]\n"
     ]
    }
   ],
   "source": [
    "# Create an identity matrix\n",
    "I = np.eye(3, dtype=int) # defalt dtype is float\n",
    "print('I=',I)"
   ]
  },
  {
   "cell_type": "code",
   "execution_count": 28,
   "metadata": {
    "collapsed": false
   },
   "outputs": [
    {
     "name": "stdout",
     "output_type": "stream",
     "text": [
      "constArray1= [[4 4 4]\n",
      " [4 4 4]]\n",
      "constArray2= [2.0, 2.0, 2.0, 2.0, 2.0]\n"
     ]
    }
   ],
   "source": [
    "# Create a constant array\n",
    "constArray1 = np.full((2,3), 4, dtype=int)\n",
    "print('constArray1=',constArray1)\n",
    "\n",
    "constArray2 = [2.0]*5\n",
    "print('constArray2=',constArray2)"
   ]
  },
  {
   "cell_type": "code",
   "execution_count": 29,
   "metadata": {
    "collapsed": false
   },
   "outputs": [
    {
     "name": "stdout",
     "output_type": "stream",
     "text": [
      "[[ 0.48520267  0.0462347   0.68479763  0.88345682]\n",
      " [ 0.92357069  0.98600473  0.97611534  0.81423352]\n",
      " [ 0.03358601  0.68274198  0.5188304   0.26102996]]\n"
     ]
    }
   ],
   "source": [
    "# Create an array filled with random values\n",
    "e = np.random.random((3,4))\n",
    "print(e)"
   ]
  },
  {
   "cell_type": "markdown",
   "metadata": {},
   "source": [
    "# Array indexing\n",
    "* A slice of an array is a view into the same data, so modifying it will modify the original array."
   ]
  },
  {
   "cell_type": "code",
   "execution_count": 6,
   "metadata": {
    "collapsed": false
   },
   "outputs": [
    {
     "name": "stdout",
     "output_type": "stream",
     "text": [
      "x= [[ 1  2  3  4]\n",
      " [ 5  6  7  8]\n",
      " [ 9 10 11 12]]\n",
      "x_sub= [[2 3]\n",
      " [6 7]]\n",
      "2\n",
      "77\n"
     ]
    }
   ],
   "source": [
    "x = np.array([[1,2,3,4], [5,6,7,8], [9,10,11,12]])\n",
    "print('x=',x)\n",
    "\n",
    "# slicing: the end index is excluded\n",
    "x_sub = x[0:2, 1:3]\n",
    "print('x_sub=',x_sub)\n",
    "\n",
    "#A slice of an array is a view into the same data, so modifying it\n",
    "# will modify the original array.\n",
    "print (x[0, 1])   # Prints \"2\"\n",
    "x_sub[0, 0] = 77    # b[0, 0] is the same piece of data as a[0, 1]\n",
    "print (x[0, 1])   # Prints \"77\"\n"
   ]
  },
  {
   "cell_type": "markdown",
   "metadata": {},
   "source": [
    "* If you want a separate copy of an array in memory, use the function copy()"
   ]
  },
  {
   "cell_type": "code",
   "execution_count": 15,
   "metadata": {
    "collapsed": false
   },
   "outputs": [
    {
     "name": "stdout",
     "output_type": "stream",
     "text": [
      "x= [[ 1 77  3  4]\n",
      " [ 5  6  7  8]\n",
      " [ 9 10 11 12]] \n",
      " y= [[10 77  3  4]\n",
      " [ 5  6  7  8]\n",
      " [ 9 10 11 12]]\n"
     ]
    }
   ],
   "source": [
    "y = x.copy()\n",
    "y[0,0]=10\n",
    "print ('x=',x,'\\n', 'y=',y)"
   ]
  },
  {
   "cell_type": "markdown",
   "metadata": {},
   "source": [
    "# Array functions"
   ]
  },
  {
   "cell_type": "code",
   "execution_count": 10,
   "metadata": {
    "collapsed": false
   },
   "outputs": [
    {
     "name": "stdout",
     "output_type": "stream",
     "text": [
      "shape returns a tuple: (3, 4)\n",
      "len returns the length of the first axis: 3\n",
      "in statement can be used to test if values are present in an array: True\n"
     ]
    }
   ],
   "source": [
    "print ('shape returns a tuple:',x.shape)\n",
    "print ('len returns the length of the first axis:',len(x))\n",
    "print ('in statement can be used to test if values are present in an array:', 5 in x)"
   ]
  },
  {
   "cell_type": "markdown",
   "metadata": {},
   "source": [
    "# Array to list"
   ]
  },
  {
   "cell_type": "code",
   "execution_count": 20,
   "metadata": {
    "collapsed": false
   },
   "outputs": [
    {
     "name": "stdout",
     "output_type": "stream",
     "text": [
      "array: [1 2 3]\n",
      "list: [1, 2, 3]\n",
      "list: [1, 2, 3]\n"
     ]
    },
    {
     "data": {
      "text/plain": [
       "(3,)"
      ]
     },
     "execution_count": 20,
     "metadata": {},
     "output_type": "execute_result"
    }
   ],
   "source": [
    "a = np.array([1,2,3])\n",
    "print ('array:',a)\n",
    "print ('list:', a.tolist())\n",
    "print ('list:', list(a))\n",
    "a.shape"
   ]
  },
  {
   "cell_type": "markdown",
   "metadata": {},
   "source": [
    "# Access one element in a row"
   ]
  },
  {
   "cell_type": "code",
   "execution_count": 29,
   "metadata": {
    "collapsed": false
   },
   "outputs": [
    {
     "name": "stdout",
     "output_type": "stream",
     "text": [
      "x: [[ 1 77  3  4]\n",
      " [ 5  6  7  8]\n",
      " [ 9 10 11 12]]\n",
      "s: [ 3  5 10]\n"
     ]
    }
   ],
   "source": [
    "s = x[np.arange(3), [2,0,1]]\n",
    "print ('x:', x)\n",
    "print ('s:', s)"
   ]
  },
  {
   "cell_type": "code",
   "execution_count": 9,
   "metadata": {
    "collapsed": false
   },
   "outputs": [
    {
     "name": "stdout",
     "output_type": "stream",
     "text": [
      "[ 3  5 11]\n"
     ]
    }
   ],
   "source": [
    "s1 = x[[0,1,2],[2,0,2]]\n",
    "print (s1)"
   ]
  },
  {
   "cell_type": "code",
   "execution_count": 33,
   "metadata": {
    "collapsed": false
   },
   "outputs": [
    {
     "name": "stdout",
     "output_type": "stream",
     "text": [
      "[[ 3  1 77]\n",
      " [ 7  5  6]\n",
      " [11  9 10]]\n"
     ]
    }
   ],
   "source": [
    "s2 = x[0:3, [2,0,1]]\n",
    "print (s2) # this yields a\n"
   ]
  },
  {
   "cell_type": "code",
   "execution_count": 14,
   "metadata": {
    "collapsed": false
   },
   "outputs": [
    {
     "ename": "IndexError",
     "evalue": "shape mismatch: indexing arrays could not be broadcast together with shapes (3,) (2,) ",
     "output_type": "error",
     "traceback": [
      "\u001b[1;31m---------------------------------------------------------------------------\u001b[0m",
      "\u001b[1;31mIndexError\u001b[0m                                Traceback (most recent call last)",
      "\u001b[1;32m<ipython-input-14-0236a5c9ab1f>\u001b[0m in \u001b[0;36m<module>\u001b[1;34m()\u001b[0m\n\u001b[1;32m----> 1\u001b[1;33m \u001b[0mprint\u001b[0m\u001b[1;33m(\u001b[0m\u001b[0mx\u001b[0m\u001b[1;33m[\u001b[0m\u001b[1;33m[\u001b[0m\u001b[1;36m1\u001b[0m\u001b[1;33m,\u001b[0m\u001b[1;36m0\u001b[0m\u001b[1;33m,\u001b[0m\u001b[1;36m2\u001b[0m\u001b[1;33m]\u001b[0m\u001b[1;33m,\u001b[0m\u001b[1;33m[\u001b[0m\u001b[1;36m0\u001b[0m\u001b[1;33m,\u001b[0m\u001b[1;36m1\u001b[0m\u001b[1;33m]\u001b[0m\u001b[1;33m]\u001b[0m\u001b[1;33m)\u001b[0m\u001b[1;33m\u001b[0m\u001b[0m\n\u001b[0m",
      "\u001b[1;31mIndexError\u001b[0m: shape mismatch: indexing arrays could not be broadcast together with shapes (3,) (2,) "
     ]
    }
   ],
   "source": [
    "print(x[[1,0,2],[0,1]])"
   ]
  },
  {
   "cell_type": "code",
   "execution_count": 17,
   "metadata": {
    "collapsed": false
   },
   "outputs": [
    {
     "name": "stdout",
     "output_type": "stream",
     "text": [
      "[[ 5  6]\n",
      " [ 1 77]\n",
      " [ 9 10]]\n"
     ]
    }
   ],
   "source": [
    "print(x[np.ix_([1,0,2],[0,1])])"
   ]
  },
  {
   "cell_type": "markdown",
   "metadata": {},
   "source": [
    "* Operator ::"
   ]
  },
  {
   "cell_type": "code",
   "execution_count": 21,
   "metadata": {
    "collapsed": false
   },
   "outputs": [
    {
     "name": "stdout",
     "output_type": "stream",
     "text": [
      "[0 1 2 3 4 5 6 7 8 9]\n",
      "[9 8 7 6 5 4 3 2 1 0]\n",
      "[0 3 6 9]\n"
     ]
    }
   ],
   "source": [
    "import numpy as np\n",
    "\n",
    "a = np.arange(10)\n",
    "print(a)\n",
    "print(a[::-1]) # reverse a list \n",
    "print(a[::3]) # jump by three,It returns every item on a position that is a multiple of 3"
   ]
  },
  {
   "cell_type": "code",
   "execution_count": 34,
   "metadata": {
    "collapsed": false
   },
   "outputs": [
    {
     "name": "stdout",
     "output_type": "stream",
     "text": [
      "[[0 0 0 0]\n",
      " [0 0 0 0]\n",
      " [0 0 0 0]\n",
      " [0 0 0 0]]\n",
      "[[0 0 0 0]\n",
      " [1 0 1 0]\n",
      " [0 0 0 0]\n",
      " [1 0 1 0]]\n",
      "[[ 0  0  0  0]\n",
      " [77  0 77  0]\n",
      " [ 0  0  0  0]\n",
      " [ 1  0  1  0]]\n",
      "[[ 0  0  0  0]\n",
      " [33  0 33  0]\n",
      " [ 0  0  0  0]\n",
      " [ 1  0  1  0]]\n",
      "[0 0]\n"
     ]
    }
   ],
   "source": [
    "import numpy as np\n",
    "\n",
    "A = np.zeros((4,4), dtype=int)\n",
    "print(A)\n",
    "\n",
    "A[1::2,::2]=1\n",
    "print(A)\n",
    "\n",
    "A[1, ::2]=77\n",
    "print(A)\n",
    "\n",
    "A[1][::2]=33\n",
    "print(A)\n",
    "\n",
    "print(A[:2,3])"
   ]
  },
  {
   "cell_type": "markdown",
   "metadata": {},
   "source": [
    "# slicing results"
   ]
  },
  {
   "cell_type": "code",
   "execution_count": 62,
   "metadata": {
    "collapsed": false
   },
   "outputs": [
    {
     "name": "stdout",
     "output_type": "stream",
     "text": [
      "[3 4]\n",
      "[0 1 2 4 4 5 6 7 8 9]\n",
      "1\n",
      "[0 1 2 4 4 5 6 7 8 9]\n"
     ]
    }
   ],
   "source": [
    "import numpy as np\n",
    " \n",
    "y=np.arange(10)\n",
    "y_slice = y[3:5]\n",
    "print (y_slice)\n",
    "\n",
    "y_slice[:] = 4\n",
    "print(y)\n",
    "\n",
    "temp = 1\n",
    "y_slice = temp # now y_slice references to temp not y any more\n",
    "print(y_slice)\n",
    "print(y) # the result is not [0 1 2 1 1 5 6 7 8 9]\n"
   ]
  },
  {
   "cell_type": "markdown",
   "metadata": {},
   "source": [
    "# When slicing keeps the array structure"
   ]
  },
  {
   "cell_type": "code",
   "execution_count": 35,
   "metadata": {
    "collapsed": false
   },
   "outputs": [
    {
     "name": "stdout",
     "output_type": "stream",
     "text": [
      "[[ 0  1  2  3  4]\n",
      " [ 5  6  7  8  9]\n",
      " [10 11 12 13 14]]\n",
      "[4 9]\n",
      "[4 9]\n",
      "[[4]\n",
      " [9]]\n",
      "13\n"
     ]
    }
   ],
   "source": [
    "import numpy as np\n",
    "\n",
    "x = np.array([[0,1,2,3,4],[5,6,7,8,9],[10,11,12,13,14]])\n",
    "print(x)\n",
    "print(x[:2,4])\n",
    "print(x[0:2,4])\n",
    "print(x[0:2,4:])\n",
    "print(x[2,3])"
   ]
  },
  {
   "cell_type": "markdown",
   "metadata": {},
   "source": [
    "# random number\n",
    "\n",
    "* rand\n",
    "\n",
    "* random\n",
    "\n",
    "* randint(min, max, size=(m,n))\n",
    "\n",
    "* normal\n",
    "\n",
    "* set seed np.ramdom.seed(int)\n",
    "\n"
   ]
  },
  {
   "cell_type": "code",
   "execution_count": 8,
   "metadata": {
    "collapsed": false
   },
   "outputs": [
    {
     "name": "stdout",
     "output_type": "stream",
     "text": [
      "[ 0.39311937  0.59541919  0.45771352  0.5560624 ]\n",
      "[[ 0.13669754  0.48240296  0.25289258]\n",
      " [ 0.41011986  0.04187461  0.94686177]]\n"
     ]
    }
   ],
   "source": [
    "import numpy as np\n",
    "\n",
    "#An array of random numbers in [0,1)\n",
    "print(np.random.rand(4))\n",
    "# [ 0.32729367  0.53477203  0.98924015  0.89361349]\n",
    "\n",
    "print(np.random.rand(2,3))\n",
    "#[[ 2.04813977  1.41076437 -1.59244892]\n",
    "# [-0.30189282 -0.25531641  2.82710529]]"
   ]
  },
  {
   "cell_type": "code",
   "execution_count": 10,
   "metadata": {
    "collapsed": false
   },
   "outputs": [
    {
     "data": {
      "text/plain": [
       "array([ 0.58831925,  0.29194464,  0.09044576,  0.55902367,  0.76308752])"
      ]
     },
     "execution_count": 10,
     "metadata": {},
     "output_type": "execute_result"
    }
   ],
   "source": [
    "import numpy as np\n",
    "\n",
    "np.random.random(5)"
   ]
  },
  {
   "cell_type": "markdown",
   "metadata": {},
   "source": [
    "# sum\n"
   ]
  },
  {
   "cell_type": "code",
   "execution_count": 51,
   "metadata": {
    "collapsed": false
   },
   "outputs": [
    {
     "name": "stdout",
     "output_type": "stream",
     "text": [
      "[[ 0.  1.  2.]\n",
      " [ 3.  4.  5.]\n",
      " [ 6.  7.  8.]]\n",
      "\n",
      " 36.0 [  9.  12.  15.] [  3.  12.  21.]\n"
     ]
    }
   ],
   "source": [
    "import numpy as np\n",
    "x = np.arange(9, dtype=float)\n",
    "x = x.reshape(3,3)\n",
    "\n",
    "print(x)\n",
    "print('\\n', x.sum(),x.sum(axis=0), x.sum(axis=1))"
   ]
  },
  {
   "cell_type": "code",
   "execution_count": 67,
   "metadata": {
    "collapsed": false
   },
   "outputs": [
    {
     "name": "stdout",
     "output_type": "stream",
     "text": [
      "range(1, 6, 3)\n"
     ]
    }
   ],
   "source": [
    "v = range(1, 6)\n",
    "print (v)\n",
    "#print (2 * v)"
   ]
  }
 ],
 "metadata": {
  "kernelspec": {
   "display_name": "Python 3",
   "language": "python",
   "name": "python3"
  },
  "language_info": {
   "codemirror_mode": {
    "name": "ipython",
    "version": 3
   },
   "file_extension": ".py",
   "mimetype": "text/x-python",
   "name": "python",
   "nbconvert_exporter": "python",
   "pygments_lexer": "ipython3",
   "version": "3.5.1"
  }
 },
 "nbformat": 4,
 "nbformat_minor": 0
}
