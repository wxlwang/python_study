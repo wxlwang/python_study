{
 "cells": [
  {
   "cell_type": "code",
   "execution_count": 30,
   "metadata": {
    "collapsed": false
   },
   "outputs": [
    {
     "name": "stdout",
     "output_type": "stream",
     "text": [
      " banana apple \n",
      "6\n",
      "b\n",
      "a\n",
      "n\n",
      "a\n",
      "n\n",
      "a\n",
      "bana\n",
      "nana\n",
      "banan\n",
      "True\n",
      "True\n",
      "False\n",
      "False\n",
      "True\n",
      "banana\n",
      "BANANA\n",
      "2\n",
      "4\n",
      "bAnAnA\n",
      "banana\n",
      " banana apple \n",
      "banana apple \n",
      " banana apple\n",
      "banana apple\n",
      "True\n"
     ]
    }
   ],
   "source": [
    "# String\n",
    "# String is immutable\n",
    "str1 = 'banana'\n",
    "str2 = 'apple'\n",
    "\n",
    "# concatenate\n",
    "str3 = ' '+str1+' '+str2+ ' '\n",
    "print(str3)\n",
    "\n",
    "# length\n",
    "str1Length = len(str1)\n",
    "print str1Length\n",
    "\n",
    "# loop\n",
    "for letter in str1:\n",
    "    print letter\n",
    "    \n",
    "# Slicing\n",
    "print str1[0:4]\n",
    "print str1[2:]\n",
    "print str1[:5]\n",
    "\n",
    "# in operator\n",
    "print 'n' in str1\n",
    "print'ana' in str1\n",
    "\n",
    "# String comparison\n",
    "print 'apple' == 'banana'\n",
    "print 'apple'>'banana'\n",
    "print 'apple'<'banana'\n",
    "\n",
    "# library of string\n",
    "# https://docs.python.org/2/library/stdtypes.html#string-methods\n",
    "print str1.lower() # does not change the original str1\n",
    "print str1.upper() # does not change the original str1, better use str1_new = str1.upper()\n",
    "print str1.find('na')\n",
    "print str1.find('na',3) # after 3, what is the position of na\n",
    "print str1.replace('a', 'A') # does not change the original str1\n",
    "print str1\n",
    "print str3\n",
    "print str3.lstrip() # doest not change the original string. Remove whitespace\n",
    "print str3.rstrip()\n",
    "print str3.strip()\n",
    "print str1.startswith('ba')\n"
   ]
  },
  {
   "cell_type": "code",
   "execution_count": 34,
   "metadata": {
    "collapsed": false
   },
   "outputs": [
    {
     "name": "stdout",
     "output_type": "stream",
     "text": [
      "Hello\n",
      "World\n"
     ]
    }
   ],
   "source": [
    "# Open a file\n",
    "stuff = 'Hello\\nWorld'\n",
    "stuff #'Hello\\nWorld'  length 11\n",
    "print stuff #Hello\n",
    "            # World\n",
    "\n",
    "#handle =  open('filename', 'r')\n",
    "#inp = stuff.read() # Read the whole file\n",
    "'''\n",
    "for line in handle:\n",
    "    count = count + 1\n",
    "    \n",
    "print  'Line Count: ', count\n",
    "'''"
   ]
  },
  {
   "cell_type": "code",
   "execution_count": 41,
   "metadata": {
    "collapsed": false
   },
   "outputs": [
    {
     "name": "stdout",
     "output_type": "stream",
     "text": [
      "['red', 'NEW', 98.6]\n",
      "['red', 'NEW']\n",
      "[99, 'apple']\n"
     ]
    },
    {
     "data": {
      "text/plain": [
       "True"
      ]
     },
     "execution_count": 41,
     "metadata": {},
     "output_type": "execute_result"
    }
   ],
   "source": [
    "# List\n",
    "# List is immutable \n",
    "x=['red', 24, 98.6]\n",
    "x[1] = 'NEW'\n",
    "print x\n",
    "\n",
    "# concatenate +\n",
    "\n",
    "# slicing \n",
    "print x[0:2]\n",
    "dir(x) # find method of x\n",
    "\n",
    "# empty list\n",
    "stuff =  list()\n",
    "stuff1 = []\n",
    "\n",
    "# add elements\n",
    "stuff.append(99)\n",
    "stuff.append('apple')\n",
    "print stuff\n",
    "\n",
    "# in operator\n",
    "99 in stuff # true"
   ]
  },
  {
   "cell_type": "code",
   "execution_count": 44,
   "metadata": {
    "collapsed": false
   },
   "outputs": [
    {
     "name": "stdout",
     "output_type": "stream",
     "text": [
      "['With', 'three', 'words']\n",
      "['With', 'three', 'words']\n"
     ]
    }
   ],
   "source": [
    "# Strings and Lists\n",
    "str = 'With three words'\n",
    "stuff = str.split() # breaks a string into parts produces a list of strings\n",
    "print stuff\n",
    "\n",
    "str1 = 'With;three;words'\n",
    "stuff1 = str1.split(';')\n",
    "print stuff1"
   ]
  },
  {
   "cell_type": "code",
   "execution_count": 56,
   "metadata": {
    "collapsed": false
   },
   "outputs": [
    {
     "name": "stdout",
     "output_type": "stream",
     "text": [
      "['__class__', '__cmp__', '__contains__', '__delattr__', '__delitem__', '__doc__', '__eq__', '__format__', '__ge__', '__getattribute__', '__getitem__', '__gt__', '__hash__', '__init__', '__iter__', '__le__', '__len__', '__lt__', '__ne__', '__new__', '__reduce__', '__reduce_ex__', '__repr__', '__setattr__', '__setitem__', '__sizeof__', '__str__', '__subclasshook__', 'clear', 'copy', 'fromkeys', 'get', 'has_key', 'items', 'iteritems', 'iterkeys', 'itervalues', 'keys', 'pop', 'popitem', 'setdefault', 'update', 'values', 'viewitems', 'viewkeys', 'viewvalues']\n",
      "{'money': 12, 'tissues': 15, 'candy': 3}\n",
      "0\n",
      "3\n",
      "['money', 'tissues', 'candy']\n",
      "['money', 'tissues', 'candy']\n",
      "[12, 15, 3]\n",
      "[('money', 12), ('tissues', 15), ('candy', 3)]\n"
     ]
    }
   ],
   "source": [
    "# dictionary{key1:value1, key2:value2}\n",
    "# lack of order\n",
    "purse = dict()\n",
    "print dir(purse)\n",
    "purse['money'] = 12\n",
    "purse['candy'] = 3\n",
    "purse['tissues'] =15\n",
    "print purse\n",
    "\n",
    "# get the value of the key,\n",
    "print purse.get('lipstick',0) #0\n",
    "print purse.get('candy',0)# 3\n",
    "\n",
    "# retrieving lists of kyes and values\n",
    "print list(purse) # ['money', 'tissues', 'candy']\n",
    "print purse.keys() # ['money', 'tissues', 'candy']\n",
    "print purse.values() # [12, 15, 3]\n",
    "print purse.items() # tuple [('money', 12), ('tissues', 15), ('candy', 3)]\n"
   ]
  },
  {
   "cell_type": "code",
   "execution_count": 67,
   "metadata": {
    "collapsed": false
   },
   "outputs": [
    {
     "name": "stdout",
     "output_type": "stream",
     "text": [
      "[('a', 10), ('c', 22), ('b', 1)]\n",
      "[('a', 10), ('b', 1), ('c', 22)]\n",
      "[('a', 10), ('b', 1), ('c', 22)]\n",
      "[(22, 'c'), (10, 'a'), (1, 'b')]\n"
     ]
    }
   ],
   "source": [
    "# tuple x = (5,4,3)\n",
    "# not mutable \n",
    "# things not to do with tuples\n",
    "# x.sort()\n",
    "# x.append(3)\n",
    "# x.reverse()\n",
    "\n",
    "x=(5,4,3)\n",
    "\n",
    "# tuples are comparable\n",
    "(0,1,2)<(5,3,1) # true 0<5, it does not compare the rest of values\n",
    "(0,1,100)<(0,3,5) # true 1<3,\n",
    "(0,1,100)==(0,3,5) # false\n",
    "(0,1,2)==(0,1,2) # true\n",
    "\n",
    "# sort by keys\n",
    "x = {'a':10, 'b':1, 'c':22}\n",
    "t = x.items()\n",
    "print t #[('a', 10), ('c', 22), ('b', 1)]\n",
    "t.sort()\n",
    "print t # [('a', 10), ('b', 1), ('c', 22)]\n",
    "\n",
    "y = sorted(x.items())\n",
    "print y # [('a', 10), ('b', 1), ('c', 22)]\n",
    "\n",
    "# sort by values\n",
    "tmp = list()\n",
    "for k, v in x.items():\n",
    "    tmp.append((v, k))\n",
    "tmp.sort(reverse=True)\n",
    "print tmp #[(22, 'c'), (10, 'a'), (1, 'b')]\n"
   ]
  },
  {
   "cell_type": "code",
   "execution_count": 68,
   "metadata": {
    "collapsed": false
   },
   "outputs": [
    {
     "name": "stdout",
     "output_type": "stream",
     "text": [
      "[(1, 'b'), (10, 'a'), (22, 'c')]\n"
     ]
    }
   ],
   "source": [
    "# List comprehension\n",
    "c = {'a':10, 'b':1, 'c':22}\n",
    "print sorted([(v,k) for k,v in c.items()]) #[(1, 'b'), (10, 'a'), (22, 'c')]"
   ]
  },
  {
   "cell_type": "code",
   "execution_count": 69,
   "metadata": {
    "collapsed": true
   },
   "outputs": [],
   "source": [
    "# Regular expression\n",
    "import re"
   ]
  }
 ],
 "metadata": {
  "kernelspec": {
   "display_name": "Python 2",
   "language": "python",
   "name": "python2"
  },
  "language_info": {
   "codemirror_mode": {
    "name": "ipython",
    "version": 2
   },
   "file_extension": ".py",
   "mimetype": "text/x-python",
   "name": "python",
   "nbconvert_exporter": "python",
   "pygments_lexer": "ipython2",
   "version": "2.7.11"
  }
 },
 "nbformat": 4,
 "nbformat_minor": 0
}
